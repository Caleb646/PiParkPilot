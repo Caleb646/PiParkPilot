{
 "cells": [
  {
   "cell_type": "code",
   "execution_count": 2,
   "metadata": {},
   "outputs": [
    {
     "name": "stdout",
     "output_type": "stream",
     "text": [
      "0.0\n",
      "0.0\n",
      "[ 0.          5.13674631  0.02650739  4.83674631  0.          0.\n",
      "  9.         -6.        ]\n"
     ]
    },
    {
     "data": {
      "image/png": "[encoded data removed]",
      "text/plain": [
       "<Figure size 640x480 with 1 Axes>"
      ]
     },
     "metadata": {},
     "output_type": "display_data"
    }
   ],
   "source": [
    "from scipy.optimize import minimize\n",
    "import matplotlib.pyplot as plt\n",
    "import math\n",
    "\n",
    "\"\"\"\n",
    "theta = the orientation of the cars frame in the world\n",
    "phi = the steering angle\n",
    "The configuration of the q = (x, y, theta, phi)\n",
    "u1 = v_car or the linear speed of the car\n",
    "u2 = phi_prime, the turning rate of the front wheel\n",
    "\n",
    "q_prime = f(q, u1, u2)\n",
    "x_prime = v_car * cos(theta) = u1 * cos(theta)\n",
    "y_prime = v_car * sin(theta) = u1 * sin(theta)\n",
    "phi_prime = u2\n",
    "L = distance between rear and front axles\n",
    "theta_prime = v_car * 1/L * tan(phi) = u1 * 1/L * tan(phi)\n",
    "\"\"\"\n",
    "\n",
    "def p(t, tf=10):\n",
    "    return (10/tf**3) * t**3 - (15/tf**4) * t**4 + (6/tf**5) * t**5\n",
    "\n",
    "# x(p) = a0 + a1 * p + a2 * p2^2 + a3 * p3^3\n",
    "# y(p) = b0 + b1 * p + b2 * p2^2 + b3 * p3^3\n",
    "def opt(p_out, x):\n",
    "    x_der = (x[2] + 2 * x[3] * p_out + 3 * x[4] * p_out**2)**2\n",
    "    y_der = (x[5] + 2 * x[6] * p_out + 3 * x[7] * p_out**2)**2\n",
    "    return x_der**2 + y_der**2\n",
    "\n",
    "def theta(p_out, x):\n",
    "    x_der = (x[2] + 2 * x[3] * p_out + 3 * x[4] * p_out**2)**2\n",
    "    y_der = (x[5] + 2 * x[6] * p_out + 3 * x[7] * p_out**2)**2\n",
    "    return math.atan2(y_der, x_der)\n",
    "\n",
    "start_x, start_y = 0, 0\n",
    "end_x, end_y = 10, 3\n",
    "start_theta, end_theta = 0, 0\n",
    "\n",
    "x0 = [1, 1, 1.3, 0.7, 0.8, 1.9, 1.9, 1.2]\n",
    "cons = (\n",
    "    {'type': 'eq', 'fun': lambda x: x[0] - start_x},\n",
    "    {'type': 'eq', 'fun': lambda x: x[4] - start_y},\n",
    "    {'type': 'eq', 'fun': lambda x: x[5] - math.tan(math.radians(start_theta))},\n",
    "    {'type': 'eq', 'fun': lambda x: x[0] + x[1] + x[2] + x[3] - end_x},\n",
    "    {'type': 'eq', 'fun': lambda x: x[4] + x[5] + x[6] + x[7] - end_y},\n",
    "    {'type': 'eq', 'fun': lambda x: x[5] + 2 * x[6] + 3 * x[7] - math.tan(math.radians(end_theta))}\n",
    "    )\n",
    "res = minimize(\n",
    "    lambda x : opt(0, x), x0, tol=1e-6, constraints=cons\n",
    "    )\n",
    "B = res.x\n",
    "xs = []\n",
    "ys = []\n",
    "for i in range(11):\n",
    "    p_out = p(i)\n",
    "    x = B[0] + B[1] * p_out + B[2] * p_out**2 + B[3] * p_out**3\n",
    "    y = B[4] + B[5] * p_out + B[6] * p_out**2 + B[7] * p_out**3\n",
    "    xs.append(x)\n",
    "    ys.append(y)\n",
    "print(math.degrees(theta(1, B)))\n",
    "print(math.degrees(theta(0, B)))\n",
    "plt.plot(xs, ys)\n",
    "print(res.x)\n"
   ]
  },
  {
   "cell_type": "code",
   "execution_count": null,
   "metadata": {},
   "outputs": [],
   "source": []
  }
 ],
 "metadata": {
  "kernelspec": {
   "display_name": "Python 3",
   "language": "python",
   "name": "python3"
  },
  "language_info": {
   "codemirror_mode": {
    "name": "ipython",
    "version": 3
   },
   "file_extension": ".py",
   "mimetype": "text/x-python",
   "name": "python",
   "nbconvert_exporter": "python",
   "pygments_lexer": "ipython3",
   "version": "3.11.0"
  }
 },
 "nbformat": 4,
 "nbformat_minor": 2
}
