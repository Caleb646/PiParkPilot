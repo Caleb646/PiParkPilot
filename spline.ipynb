{
 "cells": [
  {
   "cell_type": "code",
   "execution_count": 5,
   "metadata": {},
   "outputs": [
    {
     "name": "stdout",
     "output_type": "stream",
     "text": [
      "0.0\n",
      "0.0\n",
      "[ 0.          5.13674631  0.02650739  4.83674631  0.          0.\n",
      "  9.         -6.        ]\n"
     ]
    },
    {
     "data": {
      "image/png": "[encoded data removed]",
      "text/plain": [
       "<Figure size 640x480 with 1 Axes>"
      ]
     },
     "metadata": {},
     "output_type": "display_data"
    }
   ],
   "source": [
    "from scipy.optimize import minimize, least_squares\n",
    "import numpy as np\n",
    "import matplotlib.pyplot as plt\n",
    "import math\n",
    "\n",
    "\"\"\"\n",
    "theta = the orientation of the cars frame in the world\n",
    "phi = the steering angle\n",
    "The configuration of the q = (x, y, theta, phi)\n",
    "u1 = v_car or the linear speed of the car\n",
    "u2 = phi_prime, the turning rate of the front wheel\n",
    "\n",
    "q_prime = f(q, u1, u2)\n",
    "x_prime = v_car * cos(theta) = u1 * cos(theta)\n",
    "y_prime = v_car * sin(theta) = u1 * sin(theta)\n",
    "phi_prime = u2\n",
    "L = distance between rear and front axles\n",
    "theta_prime = v_car * 1/L * tan(phi) = u1 * 1/L * tan(phi)\n",
    "\"\"\"\n",
    "\n",
    "def p(t, tf=10):\n",
    "    return (10/tf**3) * t**3 - (15/tf**4) * t**4 + (6/tf**5) * t**5\n",
    "\n",
    "# x(p) = a0 + a1 * p + a2 * p2^2 + a3 * p3^3\n",
    "# y(p) = b0 + b1 * p + b2 * p2^2 + b3 * p3^3\n",
    "def opt(p_out, x):\n",
    "    x_der = (x[2] + 2 * x[3] * p_out + 3 * x[4] * p_out**2)**2\n",
    "    y_der = (x[5] + 2 * x[6] * p_out + 3 * x[7] * p_out**2)**2\n",
    "    return x_der**2 + y_der**2\n",
    "\n",
    "def theta(p_out, x):\n",
    "    x_der = (x[2] + 2 * x[3] * p_out + 3 * x[4] * p_out**2)**2\n",
    "    y_der = (x[5] + 2 * x[6] * p_out + 3 * x[7] * p_out**2)**2\n",
    "    return math.atan2(y_der, x_der)\n",
    "\n",
    "start_x, start_y = 0, 0\n",
    "end_x, end_y = 10, 3\n",
    "start_theta, end_theta = 0, 0\n",
    "\n",
    "x0 = [1, 1, 1.3, 0.7, 0.8, 1.9, 1.9, 1.2]\n",
    "cons = (\n",
    "    {'type': 'eq', 'fun': lambda x: x[0] - start_x},\n",
    "    {'type': 'eq', 'fun': lambda x: x[4] - start_y},\n",
    "    {'type': 'eq', 'fun': lambda x: x[5] - math.tan(math.radians(start_theta))},\n",
    "    {'type': 'eq', 'fun': lambda x: x[0] + x[1] + x[2] + x[3] - end_x},\n",
    "    {'type': 'eq', 'fun': lambda x: x[4] + x[5] + x[6] + x[7] - end_y},\n",
    "    {'type': 'eq', 'fun': lambda x: x[5] + 2 * x[6] + 3 * x[7] - math.tan(math.radians(end_theta))}\n",
    "    )\n",
    "res = minimize(\n",
    "    lambda x : opt(0, x), x0, tol=1e-6, constraints=cons\n",
    "    )\n",
    "B = res.x\n",
    "xs = []\n",
    "ys = []\n",
    "\"\"\"\n",
    "What do I need:\n",
    "    1. I need to generate a path from start to end that considers the starting and ending thetas. Check\n",
    "    2. The generated path is then used to\n",
    "\"\"\"\n",
    "for i in range(30):\n",
    "    p_out = p(i, tf=30)\n",
    "    x = B[0] + B[1] * p_out + B[2] * p_out**2 + B[3] * p_out**3\n",
    "    y = B[4] + B[5] * p_out + B[6] * p_out**2 + B[7] * p_out**3\n",
    "    xs.append(x)\n",
    "    ys.append(y)\n",
    "print(math.degrees(theta(1, B)))\n",
    "print(math.degrees(theta(0, B)))\n",
    "plt.plot(xs, ys)\n",
    "print(res.x)\n"
   ]
  },
  {
   "cell_type": "code",
   "execution_count": 26,
   "metadata": {},
   "outputs": [
    {
     "name": "stdout",
     "output_type": "stream",
     "text": [
      "Actual Projection Matrix:\n",
      " [[ 1.  0.  0. 10.]\n",
      " [ 0.  1.  0. 10.]\n",
      " [ 0.  0.  1. 11.]]\n",
      "\n",
      "Noisy Projection Matrix:\n",
      " [[1.00785993e+00 1.87709472e-02 3.14075516e-02 1.00642556e+01]\n",
      " [6.54531321e-02 1.09902441e+00 6.88818989e-03 1.00188949e+01]\n",
      " [8.16722473e-02 8.81792980e-02 1.00166019e+00 1.10795428e+01]]\n",
      "\n",
      "Optimized Projection Matrix:\n",
      " [[-0.78373097 -1.14715875 -1.00358933  9.47609231]\n",
      " [-1.7725235  -0.1398736  -0.99739267  9.41643068]\n",
      " [ 0.08167225  0.0881793   1.00166019 11.07954284]]\n",
      "\n"
     ]
    }
   ],
   "source": [
    "# Should ONLY be 3D points that have been seen in all the previous and current frames\n",
    "def windowed_bundle_adjustment(pts_2d, pts_3d, cam_poses):\n",
    "    def loss(current_pose: np.ndarray):\n",
    "        error = 0\n",
    "        er = lambda twod, threed, pose: np.sum((twod - (pose.dot(threed) / threed[2])[:2])**2)\n",
    "        reshaped = current_pose.reshape((3, 4))\n",
    "        for k in range(len(cam_poses) - 1):\n",
    "            error += er(pts_2d[k][0], pts_3d[k][0], reshaped)\n",
    "            error += er(pts_2d[k][1], pts_3d[k][1], reshaped)\n",
    "            error += er(pts_2d[k][2], pts_3d[k][2], reshaped)\n",
    "        # error += er(pts_2d[-1][0], pts_3d[-1][0], reshaped)\n",
    "        # error += er(pts_2d[-1][1], pts_3d[-1][1], reshaped)\n",
    "        # error += er(pts_2d[-1][2], pts_3d[-1][2], reshaped)\n",
    "        return error\n",
    "    return np.reshape(minimize(loss, cam_poses[-1].flatten()).x, (3, 4))\n",
    "\n",
    "def create_3d_point3(camera_pose: np.ndarray):\n",
    "    pts_2d, pts_3d = [], []\n",
    "    for i in range(3):\n",
    "        pt_3d = np.random.random((4,))\n",
    "        pt_2d = (camera_pose.dot(pt_3d) / pt_3d[2])[:2] #+ np.random.random() * 2\n",
    "        pts_2d.append(pt_2d)\n",
    "        pts_3d.append(pt_3d)\n",
    "    return pts_2d, pts_3d\n",
    "\n",
    "first_pose = np.zeros((3, 4))\n",
    "first_pose[0, 0] = 1\n",
    "first_pose[1, 1] = 1\n",
    "first_pose[2, 2] = 1\n",
    "first_pose[2, 3] = 1\n",
    "first_2d, first_3d = create_3d_point3(first_pose)\n",
    "second_pose = np.zeros((3, 4))\n",
    "second_pose[0, 0] = 1\n",
    "second_pose[1, 1] = 1\n",
    "second_pose[2, 2] = 1\n",
    "second_pose[2, 3] = 1\n",
    "second_pose[:, 3] += 10\n",
    "second_2d, second_3d = create_3d_point3(second_pose)\n",
    "print(f\"Actual Projection Matrix:\\n {second_pose}\\n\")\n",
    "second_pose += np.random.random((3, 4)) * 0.1\n",
    "print(f\"Noisy Projection Matrix:\\n {second_pose}\\n\")\n",
    "res = windowed_bundle_adjustment([first_2d, second_2d], [first_3d, second_3d], [first_pose, second_pose])\n",
    "print(f\"Optimized Projection Matrix:\\n {res}\\n\")\n"
   ]
  },
  {
   "cell_type": "code",
   "execution_count": null,
   "metadata": {},
   "outputs": [],
   "source": []
  }
 ],
 "metadata": {
  "kernelspec": {
   "display_name": "Python 3",
   "language": "python",
   "name": "python3"
  },
  "language_info": {
   "codemirror_mode": {
    "name": "ipython",
    "version": 3
   },
   "file_extension": ".py",
   "mimetype": "text/x-python",
   "name": "python",
   "nbconvert_exporter": "python",
   "pygments_lexer": "ipython3",
   "version": "3.11.0"
  }
 },
 "nbformat": 4,
 "nbformat_minor": 2
}
